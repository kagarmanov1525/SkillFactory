{
 "cells": [
  {
   "cell_type": "code",
   "execution_count": 1,
   "metadata": {
    "id": "6uBvpQCjI9Zj"
   },
   "outputs": [],
   "source": [
    "import pandas as pd\n",
    "import matplotlib.pyplot as plt\n",
    "import seaborn as sns\n",
    "from itertools import combinations\n",
    "from scipy.stats import ttest_ind"
   ]
  },
  {
   "cell_type": "code",
   "execution_count": 2,
   "metadata": {
    "id": "A1FtrXjzlE5o"
   },
   "outputs": [],
   "source": [
    "def get_boxplot(column):\n",
    "    \"Функция построения box-plot заданной колонки\"\n",
    "    fig, ax = plt.subplots()\n",
    "    sns.boxplot(x=column, y='score', \n",
    "                data=stud_math,\n",
    "               ax=ax)\n",
    "    plt.xticks(rotation=45)\n",
    "    ax.set_title('Boxplot for ' + column)\n",
    "    plt.show()\n",
    "\n",
    "def outlier(series):\n",
    "    \"Функция вывода гистограммы заданной колонки и вывода границы выбросов\"\n",
    "    IQR = series.quantile(0.75) - series.quantile(0.25)\n",
    "    perc25 = series.quantile(0.25)\n",
    "    perc75 = series.quantile(0.75)\n",
    " \n",
    "    print(\n",
    "    '25-й перцентиль: {},'.format(perc25),\n",
    "    '75-й перцентиль: {},'.format(perc75),\n",
    "    \"IQR: {}, \".format(IQR),\n",
    "    \"Границы выбросов: [{f}, {l}].\".format(f=perc25 - 1.5*IQR, l=perc75 + 1.5*IQR))\n",
    " \n",
    "    series.hist(label = 'IQR')\n",
    "    plt.legend()\n",
    "    if (series.max() > perc75 + 1.5*IQR) or (series.min() < perc25 - 1.5*IQR):\n",
    "        print ('Есть выбросы')\n",
    "    else:\n",
    "        print ('Выбросов нет')\n",
    "\n",
    "def get_stat_dif(column):\n",
    "    \"Функция выявления статистической значимости заданного признака на значения Score\"\n",
    "    cols = stud_math[column][stud_math[column].notnull()].unique()\n",
    "    combinations_all = list(combinations(cols, 2))\n",
    "    for comb in combinations_all:\n",
    "        if ttest_ind(stud_math.loc[stud_math.loc[:, column] == comb[0], 'score'], \n",
    "                        stud_math.loc[stud_math.loc[:, column] == comb[1], 'score'], nan_policy='omit').pvalue \\\n",
    "            <= 0.1/len(list (combinations(cols, 2))):\n",
    "            return True\n",
    "    return False\n",
    "\n",
    "def unique_elements(count_unique_left, count_unique_right): \n",
    "    \"Функция форматированного вывода уникальных значений без пропусков с заданным диапазоном количества уникальных значений\"\n",
    "    unique_values = {}\n",
    "    for i in stud_math.nunique()[(stud_math.nunique() >= count_unique_left) & (stud_math.nunique() < count_unique_right)].index:\n",
    "        unique_values[i] = stud_math[i][stud_math[i].notnull()].unique()\n",
    "\n",
    "    for key,value in unique_values.items(): \n",
    "        print((\"%10s\" % (key)), ':', value)\n",
    "\n",
    "def missed_ratio():\n",
    "    \"Функция подсчёта и сортировки доли пустых значений по колонкам\"\n",
    "    x = stud_math.isnull().sum() / (stud_math.count() + stud_math.isnull().sum())\n",
    "    return x.sort_values(ascending=False)"
   ]
  },
  {
   "cell_type": "code",
   "execution_count": 3,
   "metadata": {
    "id": "GaWIgpLZWqaj"
   },
   "outputs": [],
   "source": [
    "stud_math = pd.read_csv('stud_math.xls')"
   ]
  },
  {
   "cell_type": "code",
   "execution_count": 4,
   "metadata": {
    "colab": {
     "base_uri": "https://localhost:8080/"
    },
    "id": "2R6lgf03RFJD",
    "outputId": "f84703d8-0343-4d10-9180-c257bd064a41"
   },
   "outputs": [
    {
     "name": "stdout",
     "output_type": "stream",
     "text": [
      "<class 'pandas.core.frame.DataFrame'>\n",
      "RangeIndex: 395 entries, 0 to 394\n",
      "Data columns (total 30 columns):\n",
      " #   Column               Non-Null Count  Dtype  \n",
      "---  ------               --------------  -----  \n",
      " 0   school               395 non-null    object \n",
      " 1   sex                  395 non-null    object \n",
      " 2   age                  395 non-null    int64  \n",
      " 3   address              378 non-null    object \n",
      " 4   famsize              368 non-null    object \n",
      " 5   Pstatus              350 non-null    object \n",
      " 6   Medu                 392 non-null    float64\n",
      " 7   Fedu                 371 non-null    float64\n",
      " 8   Mjob                 376 non-null    object \n",
      " 9   Fjob                 359 non-null    object \n",
      " 10  reason               378 non-null    object \n",
      " 11  guardian             364 non-null    object \n",
      " 12  traveltime           367 non-null    float64\n",
      " 13  studytime            388 non-null    float64\n",
      " 14  failures             373 non-null    float64\n",
      " 15  schoolsup            386 non-null    object \n",
      " 16  famsup               356 non-null    object \n",
      " 17  paid                 355 non-null    object \n",
      " 18  activities           381 non-null    object \n",
      " 19  nursery              379 non-null    object \n",
      " 20  studytime, granular  388 non-null    float64\n",
      " 21  higher               375 non-null    object \n",
      " 22  internet             361 non-null    object \n",
      " 23  romantic             364 non-null    object \n",
      " 24  famrel               368 non-null    float64\n",
      " 25  freetime             384 non-null    float64\n",
      " 26  goout                387 non-null    float64\n",
      " 27  health               380 non-null    float64\n",
      " 28  absences             383 non-null    float64\n",
      " 29  score                389 non-null    float64\n",
      "dtypes: float64(12), int64(1), object(17)\n",
      "memory usage: 92.7+ KB\n"
     ]
    }
   ],
   "source": [
    "stud_math.info()\n",
    "# колонок больше, чем дано в описании задания \n",
    "# колонки 'studytime, granular' в описании нет, изучим эту колонку подробнее\n",
    "# названия остальных колонок соответствуют заданию и подходят для работы"
   ]
  },
  {
   "cell_type": "code",
   "execution_count": 5,
   "metadata": {
    "colab": {
     "base_uri": "https://localhost:8080/",
     "height": 406
    },
    "id": "Fay7SwjOPHYl",
    "outputId": "212bebc5-661d-449a-f2f9-6f35bdabf774"
   },
   "outputs": [
    {
     "data": {
      "text/html": [
       "<div>\n",
       "<style scoped>\n",
       "    .dataframe tbody tr th:only-of-type {\n",
       "        vertical-align: middle;\n",
       "    }\n",
       "\n",
       "    .dataframe tbody tr th {\n",
       "        vertical-align: top;\n",
       "    }\n",
       "\n",
       "    .dataframe thead th {\n",
       "        text-align: right;\n",
       "    }\n",
       "</style>\n",
       "<table border=\"1\" class=\"dataframe\">\n",
       "  <thead>\n",
       "    <tr style=\"text-align: right;\">\n",
       "      <th></th>\n",
       "      <th>studytime</th>\n",
       "      <th>studytime, granular</th>\n",
       "    </tr>\n",
       "  </thead>\n",
       "  <tbody>\n",
       "    <tr>\n",
       "      <th>0</th>\n",
       "      <td>2.0</td>\n",
       "      <td>-6.0</td>\n",
       "    </tr>\n",
       "    <tr>\n",
       "      <th>1</th>\n",
       "      <td>2.0</td>\n",
       "      <td>-6.0</td>\n",
       "    </tr>\n",
       "    <tr>\n",
       "      <th>2</th>\n",
       "      <td>2.0</td>\n",
       "      <td>-6.0</td>\n",
       "    </tr>\n",
       "    <tr>\n",
       "      <th>3</th>\n",
       "      <td>3.0</td>\n",
       "      <td>-9.0</td>\n",
       "    </tr>\n",
       "    <tr>\n",
       "      <th>4</th>\n",
       "      <td>2.0</td>\n",
       "      <td>-6.0</td>\n",
       "    </tr>\n",
       "    <tr>\n",
       "      <th>...</th>\n",
       "      <td>...</td>\n",
       "      <td>...</td>\n",
       "    </tr>\n",
       "    <tr>\n",
       "      <th>390</th>\n",
       "      <td>2.0</td>\n",
       "      <td>-6.0</td>\n",
       "    </tr>\n",
       "    <tr>\n",
       "      <th>391</th>\n",
       "      <td>1.0</td>\n",
       "      <td>-3.0</td>\n",
       "    </tr>\n",
       "    <tr>\n",
       "      <th>392</th>\n",
       "      <td>1.0</td>\n",
       "      <td>-3.0</td>\n",
       "    </tr>\n",
       "    <tr>\n",
       "      <th>393</th>\n",
       "      <td>1.0</td>\n",
       "      <td>-3.0</td>\n",
       "    </tr>\n",
       "    <tr>\n",
       "      <th>394</th>\n",
       "      <td>1.0</td>\n",
       "      <td>-3.0</td>\n",
       "    </tr>\n",
       "  </tbody>\n",
       "</table>\n",
       "<p>395 rows × 2 columns</p>\n",
       "</div>"
      ],
      "text/plain": [
       "     studytime  studytime, granular\n",
       "0          2.0                 -6.0\n",
       "1          2.0                 -6.0\n",
       "2          2.0                 -6.0\n",
       "3          3.0                 -9.0\n",
       "4          2.0                 -6.0\n",
       "..         ...                  ...\n",
       "390        2.0                 -6.0\n",
       "391        1.0                 -3.0\n",
       "392        1.0                 -3.0\n",
       "393        1.0                 -3.0\n",
       "394        1.0                 -3.0\n",
       "\n",
       "[395 rows x 2 columns]"
      ]
     },
     "execution_count": 5,
     "metadata": {},
     "output_type": "execute_result"
    }
   ],
   "source": [
    "stud_math[['studytime','studytime, granular']]\n",
    "#изучим детальнее и близкую по названию колонку - studytime"
   ]
  },
  {
   "cell_type": "code",
   "execution_count": 6,
   "metadata": {
    "colab": {
     "base_uri": "https://localhost:8080/",
     "height": 282
    },
    "id": "wb5xZ4e9TFm6",
    "outputId": "9ea48858-685f-4315-f1c6-9f4b030d37d6"
   },
   "outputs": [
    {
     "data": {
      "text/plain": [
       "array([[<AxesSubplot:title={'center':'studytime, granular'}>,\n",
       "        <AxesSubplot:title={'center':'studytime'}>]], dtype=object)"
      ]
     },
     "execution_count": 6,
     "metadata": {},
     "output_type": "execute_result"
    },
    {
     "data": {
      "image/png": "[encoded data removed]",
      "text/plain": [
       "<Figure size 432x288 with 2 Axes>"
      ]
     },
     "metadata": {
      "needs_background": "light"
     },
     "output_type": "display_data"
    }
   ],
   "source": [
    "stud_math[['studytime, granular','studytime']].hist()"
   ]
  },
  {
   "cell_type": "code",
   "execution_count": 7,
   "metadata": {
    "colab": {
     "base_uri": "https://localhost:8080/",
     "height": 107
    },
    "id": "TDPT7U-nVFvR",
    "outputId": "4cdaa083-64f0-4e43-c2b2-9204bfc61577"
   },
   "outputs": [
    {
     "data": {
      "text/html": [
       "<div>\n",
       "<style scoped>\n",
       "    .dataframe tbody tr th:only-of-type {\n",
       "        vertical-align: middle;\n",
       "    }\n",
       "\n",
       "    .dataframe tbody tr th {\n",
       "        vertical-align: top;\n",
       "    }\n",
       "\n",
       "    .dataframe thead th {\n",
       "        text-align: right;\n",
       "    }\n",
       "</style>\n",
       "<table border=\"1\" class=\"dataframe\">\n",
       "  <thead>\n",
       "    <tr style=\"text-align: right;\">\n",
       "      <th></th>\n",
       "      <th>studytime</th>\n",
       "      <th>studytime, granular</th>\n",
       "    </tr>\n",
       "  </thead>\n",
       "  <tbody>\n",
       "    <tr>\n",
       "      <th>studytime</th>\n",
       "      <td>1.0</td>\n",
       "      <td>-1.0</td>\n",
       "    </tr>\n",
       "    <tr>\n",
       "      <th>studytime, granular</th>\n",
       "      <td>-1.0</td>\n",
       "      <td>1.0</td>\n",
       "    </tr>\n",
       "  </tbody>\n",
       "</table>\n",
       "</div>"
      ],
      "text/plain": [
       "                     studytime  studytime, granular\n",
       "studytime                  1.0                 -1.0\n",
       "studytime, granular       -1.0                  1.0"
      ]
     },
     "execution_count": 7,
     "metadata": {},
     "output_type": "execute_result"
    }
   ],
   "source": [
    "stud_math[['studytime','studytime, granular']].corr()\n",
    "# колонки полностью обратно скоррелированы, значит одну из колонк можно удалить\n",
    "# уберём колонку, которая не фигурирует в описании к заданию"
   ]
  },
  {
   "cell_type": "code",
   "execution_count": 8,
   "metadata": {
    "id": "g_egZU7tViqT"
   },
   "outputs": [],
   "source": [
    "stud_math.drop(['studytime, granular'], inplace = True, axis = 1)"
   ]
  },
  {
   "cell_type": "code",
   "execution_count": 9,
   "metadata": {
    "colab": {
     "base_uri": "https://localhost:8080/"
    },
    "id": "IR4sorJ2VtFb",
    "outputId": "465bf87d-85a1-487e-e26e-f8f9c71b75aa"
   },
   "outputs": [
    {
     "name": "stdout",
     "output_type": "stream",
     "text": [
      "<class 'pandas.core.frame.DataFrame'>\n",
      "RangeIndex: 395 entries, 0 to 394\n",
      "Data columns (total 29 columns):\n",
      " #   Column      Non-Null Count  Dtype  \n",
      "---  ------      --------------  -----  \n",
      " 0   school      395 non-null    object \n",
      " 1   sex         395 non-null    object \n",
      " 2   age         395 non-null    int64  \n",
      " 3   address     378 non-null    object \n",
      " 4   famsize     368 non-null    object \n",
      " 5   Pstatus     350 non-null    object \n",
      " 6   Medu        392 non-null    float64\n",
      " 7   Fedu        371 non-null    float64\n",
      " 8   Mjob        376 non-null    object \n",
      " 9   Fjob        359 non-null    object \n",
      " 10  reason      378 non-null    object \n",
      " 11  guardian    364 non-null    object \n",
      " 12  traveltime  367 non-null    float64\n",
      " 13  studytime   388 non-null    float64\n",
      " 14  failures    373 non-null    float64\n",
      " 15  schoolsup   386 non-null    object \n",
      " 16  famsup      356 non-null    object \n",
      " 17  paid        355 non-null    object \n",
      " 18  activities  381 non-null    object \n",
      " 19  nursery     379 non-null    object \n",
      " 20  higher      375 non-null    object \n",
      " 21  internet    361 non-null    object \n",
      " 22  romantic    364 non-null    object \n",
      " 23  famrel      368 non-null    float64\n",
      " 24  freetime    384 non-null    float64\n",
      " 25  goout       387 non-null    float64\n",
      " 26  health      380 non-null    float64\n",
      " 27  absences    383 non-null    float64\n",
      " 28  score       389 non-null    float64\n",
      "dtypes: float64(11), int64(1), object(17)\n",
      "memory usage: 89.6+ KB\n"
     ]
    }
   ],
   "source": [
    "stud_math.info()\n",
    "#в дата сете присуствуют пустые ячейки"
   ]
  },
  {
   "cell_type": "code",
   "execution_count": 10,
   "metadata": {
    "colab": {
     "base_uri": "https://localhost:8080/",
     "height": 426
    },
    "id": "KjsqecHtXAcR",
    "outputId": "9266e8a8-2fef-4df9-cda6-524823fdb28e"
   },
   "outputs": [
    {
     "data": {
      "text/html": [
       "<div>\n",
       "<style scoped>\n",
       "    .dataframe tbody tr th:only-of-type {\n",
       "        vertical-align: middle;\n",
       "    }\n",
       "\n",
       "    .dataframe tbody tr th {\n",
       "        vertical-align: top;\n",
       "    }\n",
       "\n",
       "    .dataframe thead th {\n",
       "        text-align: right;\n",
       "    }\n",
       "</style>\n",
       "<table border=\"1\" class=\"dataframe\">\n",
       "  <thead>\n",
       "    <tr style=\"text-align: right;\">\n",
       "      <th></th>\n",
       "      <th>school</th>\n",
       "      <th>sex</th>\n",
       "      <th>age</th>\n",
       "      <th>address</th>\n",
       "      <th>famsize</th>\n",
       "      <th>Pstatus</th>\n",
       "      <th>Medu</th>\n",
       "      <th>Fedu</th>\n",
       "      <th>Mjob</th>\n",
       "      <th>Fjob</th>\n",
       "      <th>...</th>\n",
       "      <th>nursery</th>\n",
       "      <th>higher</th>\n",
       "      <th>internet</th>\n",
       "      <th>romantic</th>\n",
       "      <th>famrel</th>\n",
       "      <th>freetime</th>\n",
       "      <th>goout</th>\n",
       "      <th>health</th>\n",
       "      <th>absences</th>\n",
       "      <th>score</th>\n",
       "    </tr>\n",
       "  </thead>\n",
       "  <tbody>\n",
       "    <tr>\n",
       "      <th>0</th>\n",
       "      <td>GP</td>\n",
       "      <td>F</td>\n",
       "      <td>18</td>\n",
       "      <td>U</td>\n",
       "      <td>NaN</td>\n",
       "      <td>A</td>\n",
       "      <td>4.0</td>\n",
       "      <td>4.0</td>\n",
       "      <td>at_home</td>\n",
       "      <td>teacher</td>\n",
       "      <td>...</td>\n",
       "      <td>yes</td>\n",
       "      <td>yes</td>\n",
       "      <td>NaN</td>\n",
       "      <td>no</td>\n",
       "      <td>4.0</td>\n",
       "      <td>3.0</td>\n",
       "      <td>4.0</td>\n",
       "      <td>3.0</td>\n",
       "      <td>6.0</td>\n",
       "      <td>30.0</td>\n",
       "    </tr>\n",
       "    <tr>\n",
       "      <th>1</th>\n",
       "      <td>GP</td>\n",
       "      <td>F</td>\n",
       "      <td>17</td>\n",
       "      <td>U</td>\n",
       "      <td>GT3</td>\n",
       "      <td>NaN</td>\n",
       "      <td>1.0</td>\n",
       "      <td>1.0</td>\n",
       "      <td>at_home</td>\n",
       "      <td>other</td>\n",
       "      <td>...</td>\n",
       "      <td>no</td>\n",
       "      <td>yes</td>\n",
       "      <td>yes</td>\n",
       "      <td>no</td>\n",
       "      <td>5.0</td>\n",
       "      <td>3.0</td>\n",
       "      <td>3.0</td>\n",
       "      <td>3.0</td>\n",
       "      <td>4.0</td>\n",
       "      <td>30.0</td>\n",
       "    </tr>\n",
       "    <tr>\n",
       "      <th>2</th>\n",
       "      <td>GP</td>\n",
       "      <td>F</td>\n",
       "      <td>15</td>\n",
       "      <td>U</td>\n",
       "      <td>LE3</td>\n",
       "      <td>T</td>\n",
       "      <td>1.0</td>\n",
       "      <td>1.0</td>\n",
       "      <td>at_home</td>\n",
       "      <td>other</td>\n",
       "      <td>...</td>\n",
       "      <td>yes</td>\n",
       "      <td>yes</td>\n",
       "      <td>yes</td>\n",
       "      <td>NaN</td>\n",
       "      <td>4.0</td>\n",
       "      <td>3.0</td>\n",
       "      <td>2.0</td>\n",
       "      <td>3.0</td>\n",
       "      <td>10.0</td>\n",
       "      <td>50.0</td>\n",
       "    </tr>\n",
       "    <tr>\n",
       "      <th>3</th>\n",
       "      <td>GP</td>\n",
       "      <td>F</td>\n",
       "      <td>15</td>\n",
       "      <td>U</td>\n",
       "      <td>GT3</td>\n",
       "      <td>T</td>\n",
       "      <td>4.0</td>\n",
       "      <td>2.0</td>\n",
       "      <td>health</td>\n",
       "      <td>NaN</td>\n",
       "      <td>...</td>\n",
       "      <td>yes</td>\n",
       "      <td>yes</td>\n",
       "      <td>yes</td>\n",
       "      <td>yes</td>\n",
       "      <td>3.0</td>\n",
       "      <td>2.0</td>\n",
       "      <td>2.0</td>\n",
       "      <td>5.0</td>\n",
       "      <td>2.0</td>\n",
       "      <td>75.0</td>\n",
       "    </tr>\n",
       "    <tr>\n",
       "      <th>4</th>\n",
       "      <td>GP</td>\n",
       "      <td>F</td>\n",
       "      <td>16</td>\n",
       "      <td>U</td>\n",
       "      <td>GT3</td>\n",
       "      <td>T</td>\n",
       "      <td>3.0</td>\n",
       "      <td>3.0</td>\n",
       "      <td>other</td>\n",
       "      <td>other</td>\n",
       "      <td>...</td>\n",
       "      <td>yes</td>\n",
       "      <td>yes</td>\n",
       "      <td>no</td>\n",
       "      <td>no</td>\n",
       "      <td>4.0</td>\n",
       "      <td>3.0</td>\n",
       "      <td>2.0</td>\n",
       "      <td>5.0</td>\n",
       "      <td>4.0</td>\n",
       "      <td>50.0</td>\n",
       "    </tr>\n",
       "    <tr>\n",
       "      <th>...</th>\n",
       "      <td>...</td>\n",
       "      <td>...</td>\n",
       "      <td>...</td>\n",
       "      <td>...</td>\n",
       "      <td>...</td>\n",
       "      <td>...</td>\n",
       "      <td>...</td>\n",
       "      <td>...</td>\n",
       "      <td>...</td>\n",
       "      <td>...</td>\n",
       "      <td>...</td>\n",
       "      <td>...</td>\n",
       "      <td>...</td>\n",
       "      <td>...</td>\n",
       "      <td>...</td>\n",
       "      <td>...</td>\n",
       "      <td>...</td>\n",
       "      <td>...</td>\n",
       "      <td>...</td>\n",
       "      <td>...</td>\n",
       "      <td>...</td>\n",
       "    </tr>\n",
       "    <tr>\n",
       "      <th>390</th>\n",
       "      <td>MS</td>\n",
       "      <td>M</td>\n",
       "      <td>20</td>\n",
       "      <td>U</td>\n",
       "      <td>LE3</td>\n",
       "      <td>A</td>\n",
       "      <td>2.0</td>\n",
       "      <td>2.0</td>\n",
       "      <td>services</td>\n",
       "      <td>services</td>\n",
       "      <td>...</td>\n",
       "      <td>yes</td>\n",
       "      <td>yes</td>\n",
       "      <td>no</td>\n",
       "      <td>no</td>\n",
       "      <td>5.0</td>\n",
       "      <td>5.0</td>\n",
       "      <td>4.0</td>\n",
       "      <td>4.0</td>\n",
       "      <td>212.0</td>\n",
       "      <td>45.0</td>\n",
       "    </tr>\n",
       "    <tr>\n",
       "      <th>391</th>\n",
       "      <td>MS</td>\n",
       "      <td>M</td>\n",
       "      <td>17</td>\n",
       "      <td>U</td>\n",
       "      <td>LE3</td>\n",
       "      <td>T</td>\n",
       "      <td>3.0</td>\n",
       "      <td>1.0</td>\n",
       "      <td>services</td>\n",
       "      <td>services</td>\n",
       "      <td>...</td>\n",
       "      <td>no</td>\n",
       "      <td>yes</td>\n",
       "      <td>yes</td>\n",
       "      <td>no</td>\n",
       "      <td>2.0</td>\n",
       "      <td>4.0</td>\n",
       "      <td>5.0</td>\n",
       "      <td>2.0</td>\n",
       "      <td>3.0</td>\n",
       "      <td>80.0</td>\n",
       "    </tr>\n",
       "    <tr>\n",
       "      <th>392</th>\n",
       "      <td>MS</td>\n",
       "      <td>M</td>\n",
       "      <td>21</td>\n",
       "      <td>R</td>\n",
       "      <td>GT3</td>\n",
       "      <td>T</td>\n",
       "      <td>1.0</td>\n",
       "      <td>1.0</td>\n",
       "      <td>other</td>\n",
       "      <td>other</td>\n",
       "      <td>...</td>\n",
       "      <td>no</td>\n",
       "      <td>NaN</td>\n",
       "      <td>no</td>\n",
       "      <td>no</td>\n",
       "      <td>5.0</td>\n",
       "      <td>5.0</td>\n",
       "      <td>3.0</td>\n",
       "      <td>3.0</td>\n",
       "      <td>3.0</td>\n",
       "      <td>35.0</td>\n",
       "    </tr>\n",
       "    <tr>\n",
       "      <th>393</th>\n",
       "      <td>MS</td>\n",
       "      <td>M</td>\n",
       "      <td>18</td>\n",
       "      <td>R</td>\n",
       "      <td>LE3</td>\n",
       "      <td>T</td>\n",
       "      <td>3.0</td>\n",
       "      <td>2.0</td>\n",
       "      <td>services</td>\n",
       "      <td>other</td>\n",
       "      <td>...</td>\n",
       "      <td>no</td>\n",
       "      <td>yes</td>\n",
       "      <td>yes</td>\n",
       "      <td>no</td>\n",
       "      <td>4.0</td>\n",
       "      <td>4.0</td>\n",
       "      <td>1.0</td>\n",
       "      <td>5.0</td>\n",
       "      <td>0.0</td>\n",
       "      <td>50.0</td>\n",
       "    </tr>\n",
       "    <tr>\n",
       "      <th>394</th>\n",
       "      <td>MS</td>\n",
       "      <td>M</td>\n",
       "      <td>19</td>\n",
       "      <td>U</td>\n",
       "      <td>LE3</td>\n",
       "      <td>T</td>\n",
       "      <td>1.0</td>\n",
       "      <td>1.0</td>\n",
       "      <td>other</td>\n",
       "      <td>at_home</td>\n",
       "      <td>...</td>\n",
       "      <td>yes</td>\n",
       "      <td>yes</td>\n",
       "      <td>yes</td>\n",
       "      <td>no</td>\n",
       "      <td>3.0</td>\n",
       "      <td>2.0</td>\n",
       "      <td>3.0</td>\n",
       "      <td>5.0</td>\n",
       "      <td>5.0</td>\n",
       "      <td>45.0</td>\n",
       "    </tr>\n",
       "  </tbody>\n",
       "</table>\n",
       "<p>395 rows × 29 columns</p>\n",
       "</div>"
      ],
      "text/plain": [
       "    school sex  age address famsize Pstatus  Medu  Fedu      Mjob      Fjob  \\\n",
       "0       GP   F   18       U     NaN       A   4.0   4.0   at_home   teacher   \n",
       "1       GP   F   17       U     GT3     NaN   1.0   1.0   at_home     other   \n",
       "2       GP   F   15       U     LE3       T   1.0   1.0   at_home     other   \n",
       "3       GP   F   15       U     GT3       T   4.0   2.0    health       NaN   \n",
       "4       GP   F   16       U     GT3       T   3.0   3.0     other     other   \n",
       "..     ...  ..  ...     ...     ...     ...   ...   ...       ...       ...   \n",
       "390     MS   M   20       U     LE3       A   2.0   2.0  services  services   \n",
       "391     MS   M   17       U     LE3       T   3.0   1.0  services  services   \n",
       "392     MS   M   21       R     GT3       T   1.0   1.0     other     other   \n",
       "393     MS   M   18       R     LE3       T   3.0   2.0  services     other   \n",
       "394     MS   M   19       U     LE3       T   1.0   1.0     other   at_home   \n",
       "\n",
       "     ... nursery higher  internet  romantic  famrel freetime goout health  \\\n",
       "0    ...     yes    yes       NaN        no     4.0      3.0   4.0    3.0   \n",
       "1    ...      no    yes       yes        no     5.0      3.0   3.0    3.0   \n",
       "2    ...     yes    yes       yes       NaN     4.0      3.0   2.0    3.0   \n",
       "3    ...     yes    yes       yes       yes     3.0      2.0   2.0    5.0   \n",
       "4    ...     yes    yes        no        no     4.0      3.0   2.0    5.0   \n",
       "..   ...     ...    ...       ...       ...     ...      ...   ...    ...   \n",
       "390  ...     yes    yes        no        no     5.0      5.0   4.0    4.0   \n",
       "391  ...      no    yes       yes        no     2.0      4.0   5.0    2.0   \n",
       "392  ...      no    NaN        no        no     5.0      5.0   3.0    3.0   \n",
       "393  ...      no    yes       yes        no     4.0      4.0   1.0    5.0   \n",
       "394  ...     yes    yes       yes        no     3.0      2.0   3.0    5.0   \n",
       "\n",
       "    absences score  \n",
       "0        6.0  30.0  \n",
       "1        4.0  30.0  \n",
       "2       10.0  50.0  \n",
       "3        2.0  75.0  \n",
       "4        4.0  50.0  \n",
       "..       ...   ...  \n",
       "390    212.0  45.0  \n",
       "391      3.0  80.0  \n",
       "392      3.0  35.0  \n",
       "393      0.0  50.0  \n",
       "394      5.0  45.0  \n",
       "\n",
       "[395 rows x 29 columns]"
      ]
     },
     "execution_count": 10,
     "metadata": {},
     "output_type": "execute_result"
    }
   ],
   "source": [
    "stud_math\n",
    "#присутствуют ячейки со значением NaN"
   ]
  },
  {
   "cell_type": "code",
   "execution_count": 11,
   "metadata": {
    "colab": {
     "base_uri": "https://localhost:8080/"
    },
    "id": "_9TfvhvDXVsy",
    "outputId": "319f3f08-88e1-4809-b1b9-edb9cd640b31"
   },
   "outputs": [
    {
     "data": {
      "text/plain": [
       "school         0\n",
       "sex            0\n",
       "age            0\n",
       "address       17\n",
       "famsize       27\n",
       "Pstatus       45\n",
       "Medu           3\n",
       "Fedu          24\n",
       "Mjob          19\n",
       "Fjob          36\n",
       "reason        17\n",
       "guardian      31\n",
       "traveltime    28\n",
       "studytime      7\n",
       "failures      22\n",
       "schoolsup      9\n",
       "famsup        39\n",
       "paid          40\n",
       "activities    14\n",
       "nursery       16\n",
       "higher        20\n",
       "internet      34\n",
       "romantic      31\n",
       "famrel        27\n",
       "freetime      11\n",
       "goout          8\n",
       "health        15\n",
       "absences      12\n",
       "score          6\n",
       "dtype: int64"
      ]
     },
     "execution_count": 11,
     "metadata": {},
     "output_type": "execute_result"
    }
   ],
   "source": [
    "stud_math.isnull().sum()\n",
    "#проверим количество пропусков в каждой колонке"
   ]
  },
  {
   "cell_type": "code",
   "execution_count": 12,
   "metadata": {
    "colab": {
     "base_uri": "https://localhost:8080/"
    },
    "id": "q-TUCITZZkhL",
    "outputId": "552bedd1-7dbd-4fc7-9e1f-4b5f7463eff6"
   },
   "outputs": [
    {
     "data": {
      "text/plain": [
       "Pstatus       0.113924\n",
       "paid          0.101266\n",
       "famsup        0.098734\n",
       "Fjob          0.091139\n",
       "internet      0.086076\n",
       "romantic      0.078481\n",
       "guardian      0.078481\n",
       "traveltime    0.070886\n",
       "famrel        0.068354\n",
       "famsize       0.068354\n",
       "Fedu          0.060759\n",
       "failures      0.055696\n",
       "higher        0.050633\n",
       "Mjob          0.048101\n",
       "reason        0.043038\n",
       "address       0.043038\n",
       "nursery       0.040506\n",
       "health        0.037975\n",
       "activities    0.035443\n",
       "absences      0.030380\n",
       "freetime      0.027848\n",
       "schoolsup     0.022785\n",
       "goout         0.020253\n",
       "studytime     0.017722\n",
       "score         0.015190\n",
       "Medu          0.007595\n",
       "sex           0.000000\n",
       "age           0.000000\n",
       "school        0.000000\n",
       "dtype: float64"
      ]
     },
     "execution_count": 12,
     "metadata": {},
     "output_type": "execute_result"
    }
   ],
   "source": [
    "missed_ratio()\n",
    "# видим, что доля пропусков составляет не более 11,4% для отдельно взятого столбца\n",
    "# на данном этапе можно допустить такое количество пропусков за исключением нашего целевого показателя Score\n",
    "# удалим все строки с пропусками значений в столбце Score"
   ]
  },
  {
   "cell_type": "code",
   "execution_count": 13,
   "metadata": {
    "colab": {
     "base_uri": "https://localhost:8080/"
    },
    "id": "H4oRwNCodLPO",
    "outputId": "8da0b81d-55c7-4ab9-b50b-6778d092f8e3"
   },
   "outputs": [
    {
     "data": {
      "text/plain": [
       "0.0"
      ]
     },
     "execution_count": 13,
     "metadata": {},
     "output_type": "execute_result"
    }
   ],
   "source": [
    "stud_math.drop(index = stud_math[stud_math.score.isnull()].index, inplace=True, axis = 0)\n",
    "missed_ratio().score\n",
    "#удалили пустые значения из столбца с целевыми показателями"
   ]
  },
  {
   "cell_type": "code",
   "execution_count": 14,
   "metadata": {
    "colab": {
     "base_uri": "https://localhost:8080/"
    },
    "id": "v_LTGwvfMXG1",
    "outputId": "939b7205-ebdb-4896-9f54-f05f06f9f14a"
   },
   "outputs": [
    {
     "data": {
      "text/plain": [
       "school         2\n",
       "sex            2\n",
       "romantic       2\n",
       "address        2\n",
       "famsize        2\n",
       "Pstatus        2\n",
       "internet       2\n",
       "higher         2\n",
       "nursery        2\n",
       "activities     2\n",
       "paid           2\n",
       "famsup         2\n",
       "schoolsup      2\n",
       "guardian       3\n",
       "failures       4\n",
       "studytime      4\n",
       "traveltime     4\n",
       "reason         4\n",
       "Fjob           5\n",
       "Mjob           5\n",
       "Medu           5\n",
       "freetime       5\n",
       "goout          5\n",
       "health         5\n",
       "Fedu           6\n",
       "famrel         6\n",
       "age            8\n",
       "score         18\n",
       "absences      36\n",
       "dtype: int64"
      ]
     },
     "execution_count": 14,
     "metadata": {},
     "output_type": "execute_result"
    }
   ],
   "source": [
    "stud_math.nunique().sort_values()\n",
    "# помимо пропусков, в данных могут быть ошибки и опечатки\n",
    "# изучим детальнее наполнение столбцов\n",
    "# посчитаем количество уникальных значений в каждом столбце на соответсвие описанию задания"
   ]
  },
  {
   "cell_type": "code",
   "execution_count": 15,
   "metadata": {
    "colab": {
     "base_uri": "https://localhost:8080/"
    },
    "id": "zt2A1uf4NHbr",
    "outputId": "a08d0adf-67bb-48b7-d5b0-cc7ebbf44fca"
   },
   "outputs": [
    {
     "name": "stdout",
     "output_type": "stream",
     "text": [
      "    school : ['GP' 'MS']\n",
      "       sex : ['F' 'M']\n",
      "   address : ['U' 'R']\n",
      "   famsize : ['GT3' 'LE3']\n",
      "   Pstatus : ['A' 'T']\n",
      " schoolsup : ['yes' 'no']\n",
      "    famsup : ['no' 'yes']\n",
      "      paid : ['no' 'yes']\n",
      "activities : ['no' 'yes']\n",
      "   nursery : ['yes' 'no']\n",
      "    higher : ['yes' 'no']\n",
      "  internet : ['yes' 'no']\n",
      "  romantic : ['no' 'yes']\n"
     ]
    }
   ],
   "source": [
    "# в большем количестве столбцов содержится небольшое количество уникальных значений\n",
    "# посмотрим на эти значения\n",
    "\n",
    "unique_elements(0,3)\n",
    "\n",
    "#видим, что значения соответствуют описанию задания, ошибок нет"
   ]
  },
  {
   "cell_type": "code",
   "execution_count": 16,
   "metadata": {
    "colab": {
     "base_uri": "https://localhost:8080/"
    },
    "id": "t9EFhPQln15f",
    "outputId": "f5dcddb0-c004-4472-aad4-78b4dad9118f"
   },
   "outputs": [
    {
     "name": "stdout",
     "output_type": "stream",
     "text": [
      "       age : [18 17 15 16 19 22 20 21]\n",
      "      Medu : [4. 1. 3. 2. 0.]\n",
      "      Fedu : [ 4.  1.  2.  3. 40.  0.]\n",
      "      Mjob : ['at_home' 'health' 'other' 'services' 'teacher']\n",
      "      Fjob : ['teacher' 'other' 'health' 'services' 'at_home']\n",
      "    reason : ['course' 'other' 'home' 'reputation']\n",
      "  guardian : ['mother' 'father' 'other']\n",
      "traveltime : [2. 1. 3. 4.]\n",
      " studytime : [2. 3. 1. 4.]\n",
      "  failures : [0. 3. 2. 1.]\n",
      "    famrel : [ 4.  5.  3. -1.  2.  1.]\n",
      "  freetime : [3. 2. 4. 1. 5.]\n",
      "     goout : [4. 3. 2. 1. 5.]\n",
      "    health : [3. 5. 1. 2. 4.]\n"
     ]
    }
   ],
   "source": [
    "unique_elements(3,9)"
   ]
  },
  {
   "cell_type": "code",
   "execution_count": 17,
   "metadata": {
    "id": "ylfxJxrKnmnk"
   },
   "outputs": [],
   "source": [
    "# видим необычные значения 40 в столбце Fedu и -1 в столбце farmel\n",
    "# судя по значениям это могут быть опечатки: в данных столбцах должны содержатся целые числа от 0 до 4 и от 1 до 5 соответственно\n",
    "# проверим количество подозрительных значений в столбцах"
   ]
  },
  {
   "cell_type": "code",
   "execution_count": 18,
   "metadata": {
    "colab": {
     "base_uri": "https://localhost:8080/"
    },
    "id": "hrY7lpGbgb0m",
    "outputId": "9e0c7038-15a3-47a4-c2ad-890cb63f8ebe"
   },
   "outputs": [
    {
     "data": {
      "text/plain": [
       "2.0     105\n",
       "3.0      94\n",
       "4.0      88\n",
       "1.0      75\n",
       "0.0       2\n",
       "40.0      1\n",
       "Name: Fedu, dtype: int64"
      ]
     },
     "execution_count": 18,
     "metadata": {},
     "output_type": "execute_result"
    }
   ],
   "source": [
    "stud_math.Fedu.value_counts()\n",
    "#действительно, значение 40 всего одно, очень вероятно, что это опечатка, меняем его на значение 4"
   ]
  },
  {
   "cell_type": "code",
   "execution_count": 19,
   "metadata": {
    "colab": {
     "base_uri": "https://localhost:8080/"
    },
    "id": "qElU1V34gzf0",
    "outputId": "bd1f4229-9fc2-485f-8e24-111988de6b74"
   },
   "outputs": [
    {
     "name": "stderr",
     "output_type": "stream",
     "text": [
      "<ipython-input-19-4d941b707205>:1: SettingWithCopyWarning: \n",
      "A value is trying to be set on a copy of a slice from a DataFrame\n",
      "\n",
      "See the caveats in the documentation: https://pandas.pydata.org/pandas-docs/stable/user_guide/indexing.html#returning-a-view-versus-a-copy\n",
      "  stud_math.Fedu[stud_math.Fedu == 40] = 4.0\n"
     ]
    }
   ],
   "source": [
    "stud_math.Fedu[stud_math.Fedu == 40] = 4.0"
   ]
  },
  {
   "cell_type": "code",
   "execution_count": 20,
   "metadata": {
    "colab": {
     "base_uri": "https://localhost:8080/"
    },
    "id": "vcbiY139hSr4",
    "outputId": "83175b94-3980-44bc-8d43-2f76f5f1a4ef"
   },
   "outputs": [
    {
     "data": {
      "text/plain": [
       " 4.0    178\n",
       " 5.0     97\n",
       " 3.0     62\n",
       " 2.0     17\n",
       " 1.0      7\n",
       "-1.0      1\n",
       "Name: famrel, dtype: int64"
      ]
     },
     "execution_count": 20,
     "metadata": {},
     "output_type": "execute_result"
    }
   ],
   "source": [
    "stud_math.famrel.value_counts()\n",
    "# значение -1 всего одно, меняем его на значение 1"
   ]
  },
  {
   "cell_type": "code",
   "execution_count": 21,
   "metadata": {
    "colab": {
     "base_uri": "https://localhost:8080/"
    },
    "id": "IyxaDhPJhiOq",
    "outputId": "9e325069-d0b0-4332-b5b3-c23669f2ce7f"
   },
   "outputs": [
    {
     "name": "stderr",
     "output_type": "stream",
     "text": [
      "<ipython-input-21-7ba91b493f7f>:1: SettingWithCopyWarning: \n",
      "A value is trying to be set on a copy of a slice from a DataFrame\n",
      "\n",
      "See the caveats in the documentation: https://pandas.pydata.org/pandas-docs/stable/user_guide/indexing.html#returning-a-view-versus-a-copy\n",
      "  stud_math.famrel[stud_math.famrel == -1] = 1.0\n"
     ]
    }
   ],
   "source": [
    "stud_math.famrel[stud_math.famrel == -1] = 1.0"
   ]
  },
  {
   "cell_type": "code",
   "execution_count": 22,
   "metadata": {
    "colab": {
     "base_uri": "https://localhost:8080/"
    },
    "id": "QGQydwl0qMVl",
    "outputId": "cc7ca635-2668-4fd6-b635-54a2bfbbbaba"
   },
   "outputs": [
    {
     "data": {
      "text/plain": [
       "0.0      37\n",
       "20.0      1\n",
       "25.0      7\n",
       "30.0     15\n",
       "35.0      9\n",
       "40.0     31\n",
       "45.0     27\n",
       "50.0     54\n",
       "55.0     46\n",
       "60.0     31\n",
       "65.0     31\n",
       "70.0     27\n",
       "75.0     33\n",
       "80.0     16\n",
       "85.0      6\n",
       "90.0     12\n",
       "95.0      5\n",
       "100.0     1\n",
       "Name: score, dtype: int64"
      ]
     },
     "execution_count": 22,
     "metadata": {},
     "output_type": "execute_result"
    }
   ],
   "source": [
    "#посмотрим уникальные значения и их количество в столбце Score\n",
    "stud_math.score.value_counts().sort_index()\n",
    "# размах значений корректный\n",
    "# проверим наличие выбросов и характер распределения"
   ]
  },
  {
   "cell_type": "code",
   "execution_count": 23,
   "metadata": {
    "colab": {
     "base_uri": "https://localhost:8080/",
     "height": 300
    },
    "id": "QZ4crh8Arlof",
    "outputId": "b21c3c19-e3b7-4241-a94a-14bf17480c08"
   },
   "outputs": [
    {
     "name": "stdout",
     "output_type": "stream",
     "text": [
      "25-й перцентиль: 40.0, 75-й перцентиль: 70.0, IQR: 30.0,  Границы выбросов: [-5.0, 115.0].\n",
      "Выбросов нет\n"
     ]
    },
    {
     "data": {
      "image/png": "[encoded data removed]",
      "text/plain": [
       "<Figure size 432x288 with 1 Axes>"
      ]
     },
     "metadata": {
      "needs_background": "light"
     },
     "output_type": "display_data"
    }
   ],
   "source": [
    "outlier(stud_math.score)\n",
    "# Выбросов нет, но отметим необычное распределение в области значения 0"
   ]
  },
  {
   "cell_type": "code",
   "execution_count": 24,
   "metadata": {
    "colab": {
     "base_uri": "https://localhost:8080/"
    },
    "id": "SxxcLONhEYCF",
    "outputId": "8e83d0c0-333f-43b6-f2db-5fc5be4b0876"
   },
   "outputs": [
    {
     "data": {
      "text/plain": [
       "0.0      110\n",
       "1.0        3\n",
       "2.0       60\n",
       "3.0        7\n",
       "4.0       52\n",
       "5.0        5\n",
       "6.0       30\n",
       "7.0        6\n",
       "8.0       20\n",
       "9.0        3\n",
       "10.0      17\n",
       "11.0       2\n",
       "12.0      12\n",
       "13.0       2\n",
       "14.0      12\n",
       "15.0       2\n",
       "16.0       7\n",
       "17.0       1\n",
       "18.0       5\n",
       "19.0       1\n",
       "20.0       4\n",
       "21.0       1\n",
       "22.0       3\n",
       "23.0       1\n",
       "24.0       1\n",
       "25.0       1\n",
       "26.0       1\n",
       "28.0       1\n",
       "30.0       1\n",
       "38.0       1\n",
       "40.0       1\n",
       "54.0       1\n",
       "56.0       1\n",
       "75.0       1\n",
       "212.0      1\n",
       "385.0      1\n",
       "Name: absences, dtype: int64"
      ]
     },
     "execution_count": 24,
     "metadata": {},
     "output_type": "execute_result"
    }
   ],
   "source": [
    "#посмотрим на уникальные значения и их количество столбца absences\n",
    "stud_math.absences.value_counts().sort_index()\n",
    "# размех значений выглядит необычным, \n",
    "# проверим наличие выбросов и характер распределения"
   ]
  },
  {
   "cell_type": "code",
   "execution_count": 25,
   "metadata": {
    "colab": {
     "base_uri": "https://localhost:8080/",
     "height": 300
    },
    "id": "3wLGN8x5lRlr",
    "outputId": "92cc083f-3723-43b5-cd1c-a8d79331e9ae"
   },
   "outputs": [
    {
     "name": "stdout",
     "output_type": "stream",
     "text": [
      "25-й перцентиль: 0.0, 75-й перцентиль: 8.0, IQR: 8.0,  Границы выбросов: [-12.0, 20.0].\n",
      "Есть выбросы\n"
     ]
    },
    {
     "data": {
      "image/png": "[encoded data removed]",
      "text/plain": [
       "<Figure size 432x288 with 1 Axes>"
      ]
     },
     "metadata": {
      "needs_background": "light"
     },
     "output_type": "display_data"
    }
   ],
   "source": [
    "outlier(stud_math.absences)"
   ]
  },
  {
   "cell_type": "code",
   "execution_count": 26,
   "metadata": {
    "colab": {
     "base_uri": "https://localhost:8080/",
     "height": 352
    },
    "id": "agE3GhePFZ6D",
    "outputId": "92541eda-b1bf-4478-e3cf-57c8e5dafcc2"
   },
   "outputs": [
    {
     "name": "stderr",
     "output_type": "stream",
     "text": [
      "C:\\Users\\votik\\anaconda3\\lib\\site-packages\\seaborn\\_decorators.py:36: FutureWarning: Pass the following variable as a keyword arg: x. From version 0.12, the only valid positional argument will be `data`, and passing other arguments without an explicit keyword will result in an error or misinterpretation.\n",
      "  warnings.warn(\n"
     ]
    },
    {
     "data": {
      "text/plain": [
       "<AxesSubplot:xlabel='absences'>"
      ]
     },
     "execution_count": 26,
     "metadata": {},
     "output_type": "execute_result"
    },
    {
     "data": {
      "image/png": "[encoded data removed]",
      "text/plain": [
       "<Figure size 432x288 with 1 Axes>"
      ]
     },
     "metadata": {
      "needs_background": "light"
     },
     "output_type": "display_data"
    }
   ],
   "source": [
    "sns.boxplot('absences',data=stud_math)\n",
    "#ешё раз убеждаемся, что выбросы есть"
   ]
  },
  {
   "cell_type": "code",
   "execution_count": 27,
   "metadata": {
    "colab": {
     "base_uri": "https://localhost:8080/"
    },
    "id": "Vl8yO-7JKk3G",
    "outputId": "de1c2a02-a6c3-43a8-e193-9d51c83ba9f0"
   },
   "outputs": [
    {
     "data": {
      "text/plain": [
       "0.04497354497354497"
      ]
     },
     "execution_count": 27,
     "metadata": {},
     "output_type": "execute_result"
    }
   ],
   "source": [
    "# посчитаем долю выбросов\n",
    "outR_absences = 20\n",
    "stud_math.absences[stud_math.absences> outR_absences].count() / stud_math.absences.count()\n",
    "# количество таких значений около 4,5%, что некритично для удаления\n",
    "# с учётом мыслей о том, что физически маловероятно пропустить 385 занятий, удалим значения выбросов"
   ]
  },
  {
   "cell_type": "code",
   "execution_count": 28,
   "metadata": {
    "colab": {
     "base_uri": "https://localhost:8080/"
    },
    "id": "CPbIfnn3KyuN",
    "outputId": "9895a9d3-98b0-4072-ef24-f6235015c280"
   },
   "outputs": [
    {
     "name": "stderr",
     "output_type": "stream",
     "text": [
      "<ipython-input-28-6da1ade65de8>:2: SettingWithCopyWarning: \n",
      "A value is trying to be set on a copy of a slice from a DataFrame\n",
      "\n",
      "See the caveats in the documentation: https://pandas.pydata.org/pandas-docs/stable/user_guide/indexing.html#returning-a-view-versus-a-copy\n",
      "  stud_math.absences[stud_math.absences> outR_absences] = float('Nan')\n"
     ]
    }
   ],
   "source": [
    "# заменим значения выбросов пустыми строками\n",
    "stud_math.absences[stud_math.absences> outR_absences] = float('Nan')"
   ]
  },
  {
   "cell_type": "code",
   "execution_count": 29,
   "metadata": {
    "colab": {
     "base_uri": "https://localhost:8080/"
    },
    "id": "JAKJRsqQMOOa",
    "outputId": "2957d49e-c7ae-4109-f146-5ea20d9f9896"
   },
   "outputs": [
    {
     "data": {
      "text/plain": [
       "0.07197943444730077"
      ]
     },
     "execution_count": 29,
     "metadata": {},
     "output_type": "execute_result"
    }
   ],
   "source": [
    "# проверим, остался ли наш столбец валидным после замены значений\n",
    "missed_ratio().absences\n",
    "# количество пропущенных значений увеличилось до 7,2%, что не критично"
   ]
  },
  {
   "cell_type": "markdown",
   "metadata": {
    "id": "nbsjUl8apAQc"
   },
   "source": [
    "### ПРОМЕЖУТОЧНЫЙ ВЫВОД:\n",
    "1. Проверил данные на соответствие заданию: удалил лишний столбец 'studytime, granular'\n",
    "2. Удалил строки с пропусками в целевом столбце 'Score'\n",
    "3. Обнаружил и исправил некорректно введенные данные в столбцах 'Fedu' и 'Famrel'\n",
    "4. Обнаружил и удалил выбросы в столбце 'absences'\n",
    "5. Отметил необычное распределение в значениии 0 целевого показателя Score"
   ]
  },
  {
   "cell_type": "code",
   "execution_count": 30,
   "metadata": {
    "id": "CraJIK5ObbNl"
   },
   "outputs": [],
   "source": [
    "# согласно описанию, дата сет заполенен количественными и качественными типами признаков (и номинальными, и порядковыми)\n",
    "quant = ['age','absences','score']\n",
    "qual_object = ['school', 'sex', 'address', 'famsize', 'Pstatus', \n",
    "       'Mjob', 'Fjob', 'reason', 'guardian', 'schoolsup', \n",
    "       'famsup', 'paid', 'activities', 'nursery', 'higher', \n",
    "       'internet', 'romantic']\n",
    "qual_ordinal = ['Medu', 'Fedu','traveltime', 'studytime',\n",
    "       'failures',  'famrel', 'freetime', 'goout','health']"
   ]
  },
  {
   "cell_type": "code",
   "execution_count": 31,
   "metadata": {
    "colab": {
     "base_uri": "https://localhost:8080/",
     "height": 407
    },
    "id": "Vu3wGoz7ylnb",
    "outputId": "492bffb2-2099-4c3e-dd38-bedf3dfca238"
   },
   "outputs": [
    {
     "data": {
      "text/html": [
       "<div>\n",
       "<style scoped>\n",
       "    .dataframe tbody tr th:only-of-type {\n",
       "        vertical-align: middle;\n",
       "    }\n",
       "\n",
       "    .dataframe tbody tr th {\n",
       "        vertical-align: top;\n",
       "    }\n",
       "\n",
       "    .dataframe thead th {\n",
       "        text-align: right;\n",
       "    }\n",
       "</style>\n",
       "<table border=\"1\" class=\"dataframe\">\n",
       "  <thead>\n",
       "    <tr style=\"text-align: right;\">\n",
       "      <th></th>\n",
       "      <th>age</th>\n",
       "      <th>absences</th>\n",
       "      <th>score</th>\n",
       "      <th>Medu</th>\n",
       "      <th>Fedu</th>\n",
       "      <th>traveltime</th>\n",
       "      <th>studytime</th>\n",
       "      <th>failures</th>\n",
       "      <th>famrel</th>\n",
       "      <th>freetime</th>\n",
       "      <th>goout</th>\n",
       "      <th>health</th>\n",
       "    </tr>\n",
       "  </thead>\n",
       "  <tbody>\n",
       "    <tr>\n",
       "      <th>age</th>\n",
       "      <td>1.000000</td>\n",
       "      <td>0.155469</td>\n",
       "      <td>-0.155726</td>\n",
       "      <td>-0.146736</td>\n",
       "      <td>-0.152148</td>\n",
       "      <td>0.073146</td>\n",
       "      <td>-0.018227</td>\n",
       "      <td>0.205919</td>\n",
       "      <td>0.058768</td>\n",
       "      <td>0.016099</td>\n",
       "      <td>0.121115</td>\n",
       "      <td>-0.068103</td>\n",
       "    </tr>\n",
       "    <tr>\n",
       "      <th>absences</th>\n",
       "      <td>0.155469</td>\n",
       "      <td>1.000000</td>\n",
       "      <td>0.081274</td>\n",
       "      <td>0.066439</td>\n",
       "      <td>-0.024235</td>\n",
       "      <td>-0.050613</td>\n",
       "      <td>-0.075454</td>\n",
       "      <td>0.076537</td>\n",
       "      <td>-0.092902</td>\n",
       "      <td>0.096281</td>\n",
       "      <td>0.113048</td>\n",
       "      <td>-0.013156</td>\n",
       "    </tr>\n",
       "    <tr>\n",
       "      <th>score</th>\n",
       "      <td>-0.155726</td>\n",
       "      <td>0.081274</td>\n",
       "      <td>1.000000</td>\n",
       "      <td>0.213349</td>\n",
       "      <td>0.130923</td>\n",
       "      <td>-0.070559</td>\n",
       "      <td>0.115741</td>\n",
       "      <td>-0.344338</td>\n",
       "      <td>0.055305</td>\n",
       "      <td>0.019026</td>\n",
       "      <td>-0.129685</td>\n",
       "      <td>-0.070460</td>\n",
       "    </tr>\n",
       "    <tr>\n",
       "      <th>Medu</th>\n",
       "      <td>-0.146736</td>\n",
       "      <td>0.066439</td>\n",
       "      <td>0.213349</td>\n",
       "      <td>1.000000</td>\n",
       "      <td>0.621981</td>\n",
       "      <td>-0.165838</td>\n",
       "      <td>0.081032</td>\n",
       "      <td>-0.240319</td>\n",
       "      <td>-0.003697</td>\n",
       "      <td>0.038265</td>\n",
       "      <td>0.072320</td>\n",
       "      <td>-0.048331</td>\n",
       "    </tr>\n",
       "    <tr>\n",
       "      <th>Fedu</th>\n",
       "      <td>-0.152148</td>\n",
       "      <td>-0.024235</td>\n",
       "      <td>0.130923</td>\n",
       "      <td>0.621981</td>\n",
       "      <td>1.000000</td>\n",
       "      <td>-0.132036</td>\n",
       "      <td>0.017306</td>\n",
       "      <td>-0.273286</td>\n",
       "      <td>-0.016791</td>\n",
       "      <td>-0.017263</td>\n",
       "      <td>0.050997</td>\n",
       "      <td>0.018624</td>\n",
       "    </tr>\n",
       "    <tr>\n",
       "      <th>traveltime</th>\n",
       "      <td>0.073146</td>\n",
       "      <td>-0.050613</td>\n",
       "      <td>-0.070559</td>\n",
       "      <td>-0.165838</td>\n",
       "      <td>-0.132036</td>\n",
       "      <td>1.000000</td>\n",
       "      <td>-0.105910</td>\n",
       "      <td>0.049738</td>\n",
       "      <td>-0.032413</td>\n",
       "      <td>-0.026299</td>\n",
       "      <td>0.032629</td>\n",
       "      <td>-0.011724</td>\n",
       "    </tr>\n",
       "    <tr>\n",
       "      <th>studytime</th>\n",
       "      <td>-0.018227</td>\n",
       "      <td>-0.075454</td>\n",
       "      <td>0.115741</td>\n",
       "      <td>0.081032</td>\n",
       "      <td>0.017306</td>\n",
       "      <td>-0.105910</td>\n",
       "      <td>1.000000</td>\n",
       "      <td>-0.181947</td>\n",
       "      <td>0.039899</td>\n",
       "      <td>-0.125066</td>\n",
       "      <td>-0.053831</td>\n",
       "      <td>-0.079180</td>\n",
       "    </tr>\n",
       "    <tr>\n",
       "      <th>failures</th>\n",
       "      <td>0.205919</td>\n",
       "      <td>0.076537</td>\n",
       "      <td>-0.344338</td>\n",
       "      <td>-0.240319</td>\n",
       "      <td>-0.273286</td>\n",
       "      <td>0.049738</td>\n",
       "      <td>-0.181947</td>\n",
       "      <td>1.000000</td>\n",
       "      <td>-0.021068</td>\n",
       "      <td>0.091608</td>\n",
       "      <td>0.107747</td>\n",
       "      <td>0.088013</td>\n",
       "    </tr>\n",
       "    <tr>\n",
       "      <th>famrel</th>\n",
       "      <td>0.058768</td>\n",
       "      <td>-0.092902</td>\n",
       "      <td>0.055305</td>\n",
       "      <td>-0.003697</td>\n",
       "      <td>-0.016791</td>\n",
       "      <td>-0.032413</td>\n",
       "      <td>0.039899</td>\n",
       "      <td>-0.021068</td>\n",
       "      <td>1.000000</td>\n",
       "      <td>0.171165</td>\n",
       "      <td>0.072291</td>\n",
       "      <td>0.089074</td>\n",
       "    </tr>\n",
       "    <tr>\n",
       "      <th>freetime</th>\n",
       "      <td>0.016099</td>\n",
       "      <td>0.096281</td>\n",
       "      <td>0.019026</td>\n",
       "      <td>0.038265</td>\n",
       "      <td>-0.017263</td>\n",
       "      <td>-0.026299</td>\n",
       "      <td>-0.125066</td>\n",
       "      <td>0.091608</td>\n",
       "      <td>0.171165</td>\n",
       "      <td>1.000000</td>\n",
       "      <td>0.296338</td>\n",
       "      <td>0.064315</td>\n",
       "    </tr>\n",
       "    <tr>\n",
       "      <th>goout</th>\n",
       "      <td>0.121115</td>\n",
       "      <td>0.113048</td>\n",
       "      <td>-0.129685</td>\n",
       "      <td>0.072320</td>\n",
       "      <td>0.050997</td>\n",
       "      <td>0.032629</td>\n",
       "      <td>-0.053831</td>\n",
       "      <td>0.107747</td>\n",
       "      <td>0.072291</td>\n",
       "      <td>0.296338</td>\n",
       "      <td>1.000000</td>\n",
       "      <td>-0.018026</td>\n",
       "    </tr>\n",
       "    <tr>\n",
       "      <th>health</th>\n",
       "      <td>-0.068103</td>\n",
       "      <td>-0.013156</td>\n",
       "      <td>-0.070460</td>\n",
       "      <td>-0.048331</td>\n",
       "      <td>0.018624</td>\n",
       "      <td>-0.011724</td>\n",
       "      <td>-0.079180</td>\n",
       "      <td>0.088013</td>\n",
       "      <td>0.089074</td>\n",
       "      <td>0.064315</td>\n",
       "      <td>-0.018026</td>\n",
       "      <td>1.000000</td>\n",
       "    </tr>\n",
       "  </tbody>\n",
       "</table>\n",
       "</div>"
      ],
      "text/plain": [
       "                 age  absences     score      Medu      Fedu  traveltime  \\\n",
       "age         1.000000  0.155469 -0.155726 -0.146736 -0.152148    0.073146   \n",
       "absences    0.155469  1.000000  0.081274  0.066439 -0.024235   -0.050613   \n",
       "score      -0.155726  0.081274  1.000000  0.213349  0.130923   -0.070559   \n",
       "Medu       -0.146736  0.066439  0.213349  1.000000  0.621981   -0.165838   \n",
       "Fedu       -0.152148 -0.024235  0.130923  0.621981  1.000000   -0.132036   \n",
       "traveltime  0.073146 -0.050613 -0.070559 -0.165838 -0.132036    1.000000   \n",
       "studytime  -0.018227 -0.075454  0.115741  0.081032  0.017306   -0.105910   \n",
       "failures    0.205919  0.076537 -0.344338 -0.240319 -0.273286    0.049738   \n",
       "famrel      0.058768 -0.092902  0.055305 -0.003697 -0.016791   -0.032413   \n",
       "freetime    0.016099  0.096281  0.019026  0.038265 -0.017263   -0.026299   \n",
       "goout       0.121115  0.113048 -0.129685  0.072320  0.050997    0.032629   \n",
       "health     -0.068103 -0.013156 -0.070460 -0.048331  0.018624   -0.011724   \n",
       "\n",
       "            studytime  failures    famrel  freetime     goout    health  \n",
       "age         -0.018227  0.205919  0.058768  0.016099  0.121115 -0.068103  \n",
       "absences    -0.075454  0.076537 -0.092902  0.096281  0.113048 -0.013156  \n",
       "score        0.115741 -0.344338  0.055305  0.019026 -0.129685 -0.070460  \n",
       "Medu         0.081032 -0.240319 -0.003697  0.038265  0.072320 -0.048331  \n",
       "Fedu         0.017306 -0.273286 -0.016791 -0.017263  0.050997  0.018624  \n",
       "traveltime  -0.105910  0.049738 -0.032413 -0.026299  0.032629 -0.011724  \n",
       "studytime    1.000000 -0.181947  0.039899 -0.125066 -0.053831 -0.079180  \n",
       "failures    -0.181947  1.000000 -0.021068  0.091608  0.107747  0.088013  \n",
       "famrel       0.039899 -0.021068  1.000000  0.171165  0.072291  0.089074  \n",
       "freetime    -0.125066  0.091608  0.171165  1.000000  0.296338  0.064315  \n",
       "goout       -0.053831  0.107747  0.072291  0.296338  1.000000 -0.018026  \n",
       "health      -0.079180  0.088013  0.089074  0.064315 -0.018026  1.000000  "
      ]
     },
     "execution_count": 31,
     "metadata": {},
     "output_type": "execute_result"
    }
   ],
   "source": [
    "stud_math[quant + qual_ordinal].corr()\n",
    "#посмотрим на корреляцию количественных признаков и качественных порядковых признаков"
   ]
  },
  {
   "cell_type": "code",
   "execution_count": null,
   "metadata": {},
   "outputs": [],
   "source": [
    "sns.pairplot(stud_math, kind = 'reg')"
   ]
  },
  {
   "cell_type": "code",
   "execution_count": null,
   "metadata": {
    "colab": {
     "base_uri": "https://localhost:8080/"
    },
    "id": "SXlMfFyplSpg",
    "outputId": "e30b7ef9-f123-46f3-90a2-ccef2e5a619e"
   },
   "outputs": [],
   "source": [
    "# посмотрим на корреляции только со значениями столбца Score\n",
    "stud_math[quant + qual_ordinal].corr().score.sort_values()\n",
    "# самая сильная корреляция обнаружена с ординальными признаками 'failures' и 'Medu'\n",
    "# самая слабая корреляция обнаружена с ординальными признаками 'freetime' и 'famrel'"
   ]
  },
  {
   "cell_type": "code",
   "execution_count": null,
   "metadata": {
    "id": "WZlILHI9K8TC"
   },
   "outputs": [],
   "source": [
    "# количественные показатели age и absences оставим для построения модели\n",
    "val_columns = ['age', 'absences']"
   ]
  },
  {
   "cell_type": "code",
   "execution_count": null,
   "metadata": {
    "colab": {
     "base_uri": "https://localhost:8080/",
     "height": 1000
    },
    "id": "Ojwe8cceuIRn",
    "outputId": "dff02516-b81e-4ca7-8573-915ac66ebe15"
   },
   "outputs": [],
   "source": [
    "#построим боксплоты для анализа характера распределения всех признаков\n",
    "for col in stud_math.columns:\n",
    "    get_boxplot(col)\n",
    "# отмечаем, что на первый взгляд признаки age, adress, Medu, Fedu, Mjob, Fjob, \n",
    "# failures, schoolsup, higher, studytime 'goout', 'health', 'absences'\n",
    "# могут в большей степени влиять на показатели score"
   ]
  },
  {
   "cell_type": "code",
   "execution_count": null,
   "metadata": {
    "id": "LOzxUzYO8RAt"
   },
   "outputs": [],
   "source": [
    "#проверяем гипотезы ститистической значимости качественных признаков по тесту Стьюдента\n",
    "#значимые признаки добавим в наш список\n",
    "for col in (qual_object + qual_ordinal):\n",
    "    if get_stat_dif(col):\n",
    "       val_columns = val_columns + [col]"
   ]
  },
  {
   "cell_type": "code",
   "execution_count": null,
   "metadata": {
    "colab": {
     "base_uri": "https://localhost:8080/",
     "height": 406
    },
    "id": "5BQ1LsAcGPMX",
    "outputId": "58954c57-e9d4-4625-e0d0-1b6ea12af6b9"
   },
   "outputs": [],
   "source": [
    "stud_math_for_model = stud_math.loc[:, val_columns]\n",
    "stud_math_for_model"
   ]
  },
  {
   "cell_type": "markdown",
   "metadata": {},
   "source": [
    "# Вывод:\n",
    "1. Проверил данные на соответствие заданию: удалил лишний столбец 'studytime, granular'\n",
    "2. Удалил строки с пропусками в целевом столбце 'Score'\n",
    "3. Обнаружил и исправил некорректно введенные данные в столбцах 'Fedu' и 'Famrel'\n",
    "4. Обнаружил и удалил выбросы в столбце 'absences'\n",
    "5. Отметил необычное распределение в значениии 0 целевого показателя Score\n",
    "6. Выделил типы признаков: количественные, качественные номинальные и ординальные\n",
    "7. Проанализировал признаки (визульный анализ распределения, корреляционный анализ, тест Стьюдента) и выделил важные для построения модели"
   ]
  }
 ],
 "metadata": {
  "colab": {
   "collapsed_sections": [],
   "name": "Копия блокнота \"Untitled29.ipynb\"",
   "provenance": []
  },
  "kernelspec": {
   "display_name": "Python 3",
   "language": "python",
   "name": "python3"
  },
  "language_info": {
   "codemirror_mode": {
    "name": "ipython",
    "version": 3
   },
   "file_extension": ".py",
   "mimetype": "text/x-python",
   "name": "python",
   "nbconvert_exporter": "python",
   "pygments_lexer": "ipython3",
   "version": "3.8.8"
  }
 },
 "nbformat": 4,
 "nbformat_minor": 1
}
